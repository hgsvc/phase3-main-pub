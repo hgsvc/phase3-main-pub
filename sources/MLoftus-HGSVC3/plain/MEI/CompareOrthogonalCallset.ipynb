{
 "cells": [
  {
   "cell_type": "code",
   "execution_count": 1,
   "id": "dc85836b",
   "metadata": {},
   "outputs": [],
   "source": [
    "import pandas as pd\n",
    "import os\n",
    "import numpy as np\n",
    "import collections"
   ]
  },
  {
   "cell_type": "code",
   "execution_count": 2,
   "id": "cd6ff39e",
   "metadata": {},
   "outputs": [],
   "source": [
    "v3hg38 = pd.read_csv('/home/mark/Desktop/MEI_Group/HGSVC3/Merged_Callsets/Manuscript/GRCh38_hgsvc3_PublicationSet_Final.csv').set_index(\"ID\")\n",
    "v3t2t = pd.read_csv('/home/mark/Desktop/MEI_Group/HGSVC3/Merged_Callsets/Manuscript/t2tCHM13_hgsvc3_PublicationSet_Final.csv').set_index(\"ID\")"
   ]
  },
  {
   "cell_type": "code",
   "execution_count": 3,
   "id": "7e18aa15",
   "metadata": {},
   "outputs": [],
   "source": [
    "orthogonalhg38 = pd.read_csv('/home/mark/Desktop/MEI_Group/HGSVC3/Devines/hg38_PAV_freeze4_MELT-RISC-v1.4.2-90-90-SVA-40-90-no-SVA-SVA.vcf',sep='\\t')\n",
    "orthogonalhg38['PAV_ID']=[x.split(\"PAV_ID=\")[1].split(\";\")[0] for x in orthogonalhg38['INFO']]\n",
    "orthogonalhg38.set_index(\"PAV_ID\", inplace=True)\n",
    "\n",
    "orthogonalt2t = pd.read_csv('/home/mark/Desktop/MEI_Group/HGSVC3/Devines/hs1_PAV_freeze4_MELT-RISC-v1.4.2-90-90-SVA-40-90-no-SVA-SVA.vcf',sep='\\t')\n",
    "orthogonalt2t['PAV_ID']=[x.split(\"PAV_ID=\")[1].split(\";\")[0] for x in orthogonalt2t['INFO']]\n",
    "orthogonalt2t.set_index(\"PAV_ID\", inplace=True)"
   ]
  },
  {
   "cell_type": "code",
   "execution_count": 4,
   "id": "0761683c",
   "metadata": {},
   "outputs": [],
   "source": [
    "PAVIDrowhg38 = [x for x in v3hg38.index if 'MEI' not in x]\n",
    "PAVIDrowt2t = [x for x in v3t2t.index if 'MEI' not in x]"
   ]
  },
  {
   "cell_type": "code",
   "execution_count": 5,
   "id": "a21207e4",
   "metadata": {},
   "outputs": [
    {
     "name": "stdout",
     "output_type": "stream",
     "text": [
      "11805 1196 0.9080070763787401 Counter({2: 710, 1: 486})\n"
     ]
    }
   ],
   "source": [
    "found=0\n",
    "notfound=0\n",
    "notFoundList=[]\n",
    "for row in v3hg38.index:\n",
    "    if row in orthogonalhg38.index:\n",
    "        found+=1\n",
    "    else:\n",
    "        notfound+=1\n",
    "        notFoundList.append(row)\n",
    "print(found, notfound, found/len(v3hg38), collections.Counter(v3hg38.loc[notFoundList]['Caller_Count']))"
   ]
  },
  {
   "cell_type": "code",
   "execution_count": 6,
   "id": "6f0fef8b",
   "metadata": {},
   "outputs": [
    {
     "name": "stdout",
     "output_type": "stream",
     "text": [
      "11950 1266 0.9042070217917676 Counter({2: 740, 1: 526})\n"
     ]
    }
   ],
   "source": [
    "found=0\n",
    "notfound=0\n",
    "notFoundList=[]\n",
    "\n",
    "for row in v3t2t.index:\n",
    "    if row in orthogonalt2t.index:\n",
    "        found+=1\n",
    "    else:\n",
    "        notfound+=1\n",
    "        notFoundList.append(row)\n",
    "\n",
    "print(found, notfound, found/len(v3t2t), collections.Counter(v3t2t.loc[notFoundList]['Caller_Count']))"
   ]
  },
  {
   "cell_type": "code",
   "execution_count": 7,
   "id": "13c0f03e",
   "metadata": {},
   "outputs": [
    {
     "name": "stdout",
     "output_type": "stream",
     "text": [
      "11805 873 0.9311405584477047\n"
     ]
    }
   ],
   "source": [
    "found=0\n",
    "notfound=0\n",
    "for row in PAVIDrowhg38:\n",
    "    if row in orthogonalhg38.index:\n",
    "        found+=1\n",
    "    else:\n",
    "        notfound+=1\n",
    "print(found, notfound, found/len(v3hg38.loc[PAVIDrowhg38]))"
   ]
  },
  {
   "cell_type": "code",
   "execution_count": 8,
   "id": "1293f5a9",
   "metadata": {},
   "outputs": [
    {
     "name": "stdout",
     "output_type": "stream",
     "text": [
      "11950 930 0.9277950310559007\n"
     ]
    }
   ],
   "source": [
    "found=0\n",
    "notfound=0\n",
    "for row in PAVIDrowt2t:\n",
    "    if row in orthogonalt2t.index:\n",
    "        found+=1\n",
    "    else:\n",
    "        notfound+=1\n",
    "print(found, notfound, found/len(v3t2t.loc[PAVIDrowt2t]))"
   ]
  }
 ],
 "metadata": {
  "kernelspec": {
   "display_name": "Python 3 (ipykernel)",
   "language": "python",
   "name": "python3"
  },
  "language_info": {
   "codemirror_mode": {
    "name": "ipython",
    "version": 3
   },
   "file_extension": ".py",
   "mimetype": "text/x-python",
   "name": "python",
   "nbconvert_exporter": "python",
   "pygments_lexer": "ipython3",
   "version": "3.11.5"
  }
 },
 "nbformat": 4,
 "nbformat_minor": 5
}
