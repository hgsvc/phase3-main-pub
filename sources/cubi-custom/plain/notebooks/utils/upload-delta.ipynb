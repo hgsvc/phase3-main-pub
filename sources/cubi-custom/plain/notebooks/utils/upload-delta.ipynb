{
 "cells": [
  {
   "cell_type": "code",
   "execution_count": 4,
   "id": "0399df3b-d94c-4c29-93cd-03a042aa85e9",
   "metadata": {},
   "outputs": [
    {
     "name": "stdout",
     "output_type": "stream",
     "text": [
      "processed_by\n",
      "UW_YJK          285\n",
      "nobody           45\n",
      "JAX_PH            1\n",
      "ERROR_JAX_PH      1\n",
      "Name: count, dtype: int64\n",
      "m54329U_200719_061020.ccs\n",
      "m54329U_200717_235548.ccs\n",
      "m54329U_200715_194535.ccs\n",
      "processed_by\n",
      "UW_YJK           285\n",
      "UMIGS_SD          27\n",
      "JAX_PH            14\n",
      "UW_EICHLER         3\n",
      "external-data      2\n",
      "ERROR_JAX_PH       1\n",
      "Name: count, dtype: int64\n"
     ]
    }
   ],
   "source": [
    "import pandas as pd\n",
    "import pathlib as pl\n",
    "import collections as col\n",
    "\n",
    "uw_file = pl.Path(\"hgsvc3_missing_accessions.hifi-ont.UW.tsv\")\n",
    "all_file = pl.Path(\"notebooks/hgsvc3_missing_accessions.hifi-ont.ALL.tsv\").resolve(strict=True)\n",
    "\n",
    "uw_table = pd.read_csv(uw_file, sep=\"\\t\", header=0)\n",
    "all_table = pd.read_csv(all_file, sep=\"\\t\", header=0)\n",
    "\n",
    "all_table[\"processed_by\"] = \"nobody\"\n",
    "\n",
    "uw_files = all_table[\"file_name\"].isin(uw_table[\"file_name\"])\n",
    "all_table.loc[uw_files, \"processed_by\"] = \"UW_YJK\"\n",
    "\n",
    "error_file_name = \"20230626_230620_23-lee-007_PCA100115_3F-run15_guppy-5.0.11-sup-prom_fastq_pass\"\n",
    "error_select = all_table[\"file_name\"] == error_file_name\n",
    "all_table.loc[error_select, \"processed_by\"] = \"ERROR_JAX_PH\"\n",
    "\n",
    "jax_file = \"m64119e_230531_095655.hifi_reads\"\n",
    "jax_select = all_table[\"file_name\"] == jax_file\n",
    "all_table.loc[jax_select, \"processed_by\"] = \"JAX_PH\"\n",
    "\n",
    "print(all_table[\"processed_by\"].value_counts())\n",
    "index_setters = col.defaultdict(list)\n",
    "for row in all_table.loc[all_table[\"processed_by\"] == \"nobody\", :].itertuples():\n",
    "    if row.accession != \"unknown\":\n",
    "        index_setters[\"external-data\"].append(row.Index)\n",
    "    elif \"edevi\" in row.file_name.lower():\n",
    "        index_setters[\"UMIGS_SD\"].append(row.Index)\n",
    "    elif \"clee\" in row.file_name.lower():\n",
    "        index_setters[\"JAX_PH\"].append(row.Index)\n",
    "    elif \"eee\" in row.file_name.lower():\n",
    "        index_setters[\"UW_EICHLER\"].append(row.Index)\n",
    "        print(row.file_name)\n",
    "    elif \"hg00514\" in row.remote_path.lower() and \"reseq\" in row.remote_path.lower():\n",
    "        index_setters[\"UW_EICHLER\"].append(row.Index)\n",
    "        print(row.file_name)\n",
    "    else:\n",
    "        print(row)\n",
    "        raise\n",
    "\n",
    "for label, indices in index_setters.items():\n",
    "    all_table.loc[indices, \"processed_by\"] = label\n",
    "\n",
    "print(all_table[\"processed_by\"].value_counts())\n",
    "all_table.sort_values([\"processed_by\", \"datatype\", \"remote_path\", \"file_name\"], inplace=True)\n",
    "all_table = all_table[\n",
    "    [\"sample\", \"datatype\", \"processed_by\", \"file_name\", \"remote_path\", \"accession\"]\n",
    "]\n",
    "# with open(\"hgsvc3_missing-accessions.hifi-ont.all.tsv\", \"w\") as dump:\n",
    "#     all_table.to_csv(dump, sep=\"\\t\", header=True, index=False)\n",
    "    "
   ]
  },
  {
   "cell_type": "code",
   "execution_count": null,
   "id": "bc5f173b-c443-4024-b29d-90fa825926b8",
   "metadata": {},
   "outputs": [],
   "source": []
  }
 ],
 "metadata": {
  "kernelspec": {
   "display_name": "Python 3 (ipykernel)",
   "language": "python",
   "name": "python3"
  },
  "language_info": {
   "codemirror_mode": {
    "name": "ipython",
    "version": 3
   },
   "file_extension": ".py",
   "mimetype": "text/x-python",
   "name": "python",
   "nbconvert_exporter": "python",
   "pygments_lexer": "ipython3",
   "version": "3.10.8"
  }
 },
 "nbformat": 4,
 "nbformat_minor": 5
}
