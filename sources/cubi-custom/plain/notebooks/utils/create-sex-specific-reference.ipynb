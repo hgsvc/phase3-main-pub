{
 "cells": [
  {
   "cell_type": "code",
   "execution_count": 7,
   "id": "c2b99a76",
   "metadata": {},
   "outputs": [],
   "source": [
    "import pathlib as pl\n",
    "import io\n",
    "\n",
    "import dnaio\n",
    "\n",
    "full_ref = pl.Path(\"temp\", \"t2t-chm13-v2.0.fa\")\n",
    "\n",
    "\n",
    "male_buffer = io.StringIO()\n",
    "female_buffer = io.StringIO()\n",
    "\n",
    "with dnaio.open(full_ref) as fasta:\n",
    "    for record in fasta:\n",
    "        if record.name in [\"chrM\", \"chrMT\", \"mito\"]:\n",
    "            continue\n",
    "        if record.name == \"chrX\":\n",
    "            female_buffer.write(f\">{record.name}\\n{record.sequence}\\n\")\n",
    "            continue\n",
    "        if record.name == \"chrY\":\n",
    "            male_buffer.write(f\">{record.name}\\n{record.sequence}\\n\")\n",
    "            continue\n",
    "        female_buffer.write(f\">{record.name}\\n{record.sequence}\\n\")\n",
    "        male_buffer.write(f\">{record.name}\\n{record.sequence}\\n\")\n",
    "\n",
    "male_hap_ref = pl.Path(\"temp\", \"chm13v2.0.male-hap.fasta\")        \n",
    "with open(male_hap_ref, \"w\") as dump:\n",
    "    _ = dump.write(male_buffer.getvalue())\n",
    "    \n",
    "female_hap_ref = pl.Path(\"temp\", \"chm13v2.0.female-hap.fasta\")        \n",
    "with open(female_hap_ref, \"w\") as dump:\n",
    "    _ = dump.write(female_buffer.getvalue())"
   ]
  }
 ],
 "metadata": {
  "kernelspec": {
   "display_name": "Python 3 (ipykernel)",
   "language": "python",
   "name": "python3"
  },
  "language_info": {
   "codemirror_mode": {
    "name": "ipython",
    "version": 3
   },
   "file_extension": ".py",
   "mimetype": "text/x-python",
   "name": "python",
   "nbconvert_exporter": "python",
   "pygments_lexer": "ipython3",
   "version": "3.9.15"
  }
 },
 "nbformat": 4,
 "nbformat_minor": 5
}
