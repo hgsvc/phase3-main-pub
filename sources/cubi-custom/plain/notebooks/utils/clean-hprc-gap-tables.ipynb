{
 "cells": [
  {
   "cell_type": "code",
   "execution_count": 16,
   "id": "bfa2402c",
   "metadata": {},
   "outputs": [
    {
     "name": "stdout",
     "output_type": "stream",
     "text": [
      "(592, 7)\n",
      "(44, 7)\n"
     ]
    }
   ],
   "source": [
    "%run \"../00_project_config.ipynb\"\n",
    "\n",
    "import pandas as pd\n",
    "import hashlib as hl\n",
    "\n",
    "table_files = PROJECT_BASE.joinpath(\n",
    "    \"annotations/external\"\n",
    ").glob(\"porubsky*.tsv\")\n",
    "\n",
    "out_table = PROJECT_BASE.joinpath(\n",
    "    \"annotations/roi\", \"porubsky2023_hprc_common-gaps.tsv\"\n",
    ")\n",
    "\n",
    "def norm_boolean_value(value):\n",
    "    \n",
    "    if isinstance(value, bool):\n",
    "        return value\n",
    "    if isinstance(value, str):\n",
    "        if value.lower() == \"false\" or value == \"0\":\n",
    "            return False\n",
    "        if value.lower() == \"true\" or value == \"1\":\n",
    "            return True\n",
    "        raise ValueError(value)\n",
    "    if isinstance(value, int):\n",
    "        if value == 0:\n",
    "            return False\n",
    "        if value == 1:\n",
    "            return True\n",
    "        raise ValueError(value)\n",
    "    \n",
    "\n",
    "def make_region_name(row):\n",
    "    \n",
    "    region_id = f\"{row.chrom}:{row.start}-{row.end}\"\n",
    "    region_name = hl.md5(region_id.encode(\"utf-8\")).hexdigest()\n",
    "    return region_name\n",
    "    \n",
    "\n",
    "merged = []\n",
    "for table_file in table_files:\n",
    "    df = pd.read_csv(table_file, sep=\"\\t\", header=0)\n",
    "    rename_cols = {}\n",
    "    for c in df.columns:\n",
    "        if c == \"seqnames\":\n",
    "            rename_cols[c] = \"chrom\"\n",
    "            continue\n",
    "        if c == \"score\":\n",
    "            rename_cols[c] = \"hap_broken\"\n",
    "            continue\n",
    "        if c == \"width\":\n",
    "            rename_cols[c] = \"name\"\n",
    "            continue\n",
    "        new_name = c.replace(\".\", \"_\")\n",
    "        rename_cols[c] = new_name\n",
    "    df.rename(rename_cols, axis=1, inplace=True)\n",
    "    df[\"SD_associated\"] = df[\"SD_associated\"].apply(norm_boolean_value)\n",
    "    df[\"CHM13_known_coverage_issue\"] = df[\"CHM13_known_coverage_issue\"].apply(norm_boolean_value)\n",
    "    df[\"name\"] = df.apply(make_region_name, axis=1)\n",
    "    print(df.shape)\n",
    "    merged.append(df)\n",
    "    \n",
    "merged = pd.concat(merged, axis=0, ignore_index=False)\n",
    "merged.drop_duplicates(\"name\", keep=\"first\", inplace=True)\n",
    "merged.sort_values([\"chrom\", \"start\"], inplace=True)\n",
    "\n",
    "win_size = int(1e4)\n",
    "\n",
    "merged[\"win_start\"] = merged[\"start\"] // win_size * win_size\n",
    "merged[\"win_end\"] = merged[\"end\"] // win_size * win_size + win_size\n",
    "assert (merged[\"win_start\"] < merged[\"win_end\"]).all()\n",
    "\n",
    "merged.to_csv(out_table, sep=\"\\t\", header=True, index=False)"
   ]
  }
 ],
 "metadata": {
  "kernelspec": {
   "display_name": "Python 3 (ipykernel)",
   "language": "python",
   "name": "python3"
  },
  "language_info": {
   "codemirror_mode": {
    "name": "ipython",
    "version": 3
   },
   "file_extension": ".py",
   "mimetype": "text/x-python",
   "name": "python",
   "nbconvert_exporter": "python",
   "pygments_lexer": "ipython3",
   "version": "3.9.15"
  }
 },
 "nbformat": 4,
 "nbformat_minor": 5
}
