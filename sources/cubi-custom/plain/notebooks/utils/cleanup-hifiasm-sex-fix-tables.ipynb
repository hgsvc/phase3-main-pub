{
 "cells": [
  {
   "cell_type": "code",
   "execution_count": 3,
   "id": "41cbfd10-7bd6-4197-8eba-9d0a978da92c",
   "metadata": {},
   "outputs": [],
   "source": [
    "import pandas as pd\n",
    "import pathlib as pl\n",
    "\n",
    "top_folder = pl.Path(\n",
    "    \"/mounts/hilbert/project\",\n",
    "    \"projects/medbioinf/data/00_RESTRUCTURE\",\n",
    "    \"project-centric/hgsvc/processed/20240509_UW_merqury_flagger_complete/assembly_annotations/hifiasm-fix-sex-chr\"\n",
    ")\n",
    "\n",
    "out_folder = pl.Path(\n",
    "    \"/mounts/hilbert/project\",\n",
    "    \"projects/medbioinf/data/00_RESTRUCTURE\",\n",
    "    \"shares/globus/outgoing/hgsvc/ebi_upload/20230926_assembly_annotations/hifiasm/20240523_drop-dup-seqs\"\n",
    ")\n",
    "\n",
    "for tab_file in top_folder.glob(\"*.tab\"):\n",
    "    df = pd.read_csv(tab_file, sep=\"\\t\", header=0)\n",
    "    drop_dups = df.loc[df[\"reason\"] == \"duplicate\", :].copy()\n",
    "    if drop_dups.empty:\n",
    "        continue\n",
    "    dup_contigs = sorted(set(drop_dups[\"ctg\"].values))\n",
    "    sample = tab_file.name.split(\"_\")[0]\n",
    "    out_file_name = f\"{sample}.hsm-ps-sseq.drop-dup-seqs.txt\"\n",
    "    out_file_path = out_folder.joinpath(out_file_name)\n",
    "    with open(out_file_path, \"w\") as dump:\n",
    "        _ = dump.write(\"\\n\".join(dup_contigs) + \"\\n\")"
   ]
  }
 ],
 "metadata": {
  "kernelspec": {
   "display_name": "Python 3 (ipykernel)",
   "language": "python",
   "name": "python3"
  },
  "language_info": {
   "codemirror_mode": {
    "name": "ipython",
    "version": 3
   },
   "file_extension": ".py",
   "mimetype": "text/x-python",
   "name": "python",
   "nbconvert_exporter": "python",
   "pygments_lexer": "ipython3",
   "version": "3.10.8"
  }
 },
 "nbformat": 4,
 "nbformat_minor": 5
}
