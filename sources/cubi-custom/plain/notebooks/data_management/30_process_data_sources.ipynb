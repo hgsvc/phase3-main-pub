{
 "cells": [
  {
   "cell_type": "code",
   "execution_count": 1,
   "id": "61118a54",
   "metadata": {},
   "outputs": [
    {
     "name": "stderr",
     "output_type": "stream",
     "text": [
      "\n",
      "Skipping over 19320 - not enough data\n"
     ]
    }
   ],
   "source": [
    "%run \"00_path_config.ipynb\"\n",
    "%run \"10_data_objects.ipynb\"\n",
    "%run \"20_process_sample_table.ipynb\"\n",
    "\n",
    "import pathlib as pl\n",
    "import pandas as pd\n",
    "import collections as col\n",
    "import sys\n",
    "import pickle as pck\n",
    "\n",
    "LOCAL_RUN = True\n",
    "FORCE_RERUN = False\n",
    "\n",
    "DATA_SOURCE_CACHE = pl.Path(\".cache\", \"data-source-files.pck\")\n",
    "\n",
    "\n",
    "if LOCAL_RUN:\n",
    "    PROCESS_DATA_ROOT = PATH_PREFIX.local\n",
    "else:\n",
    "    PROCESS_DATA_ROOT = PATH_PREFIX.remote\n",
    "    \n",
    "\n",
    "FILES_EXIST_BY_SOURCE_FOLDER = col.defaultdict(list)\n",
    "\n",
    "if DATA_SOURCE_CACHE.is_file() and not FORCE_RERUN:\n",
    "    with open(DATA_SOURCE_CACHE, \"rb\") as dump:\n",
    "        FILES_EXIST_BY_SOURCE_FOLDER = pck.load(dump)\n",
    "        \n",
    "else:\n",
    "    \n",
    "    for project, read_type, subfolder in SUB_DATA_FOLDERS:\n",
    "\n",
    "        search_path = PROCESS_DATA_ROOT.joinpath(DATA_ROOT, PROJECT_DATA_FOLDER, subfolder)\n",
    "        assert search_path.is_dir()\n",
    "\n",
    "        sample_listings = list(search_path.glob(\"**/sample-folder.lst\"))\n",
    "\n",
    "        if not sample_listings:\n",
    "            sys.stderr.write(f\"WARNING - no sample listings file: {search_path}\\n\\n\")\n",
    "            continue\n",
    "\n",
    "        for sample_listing in sample_listings:\n",
    "\n",
    "            with open(sample_listing, \"r\") as lst:\n",
    "                for line in lst:\n",
    "                    if not line.strip():\n",
    "                        continue\n",
    "                    sample_folder = PROCESS_DATA_ROOT.joinpath(DATA_ROOT, line.strip())\n",
    "                    assert sample_folder.is_dir(), f\"Missing / no dir: {sample_folder}\"\n",
    "\n",
    "                    sample_files = list(sample_folder.glob(\"**/*.fastq.gz\"))\n",
    "                    if not sample_files:\n",
    "                        raise ValueError(f\"Empty folder: {sample_folder}\")\n",
    "\n",
    "                    sample_files = [fp for fp in sample_files if \"fail\" not in fp.name]\n",
    "                    for fp in sample_files:\n",
    "                        FILES_EXIST_BY_SOURCE_FOLDER[sample_folder].append(fp)\n",
    "\n",
    "        with open(DATA_SOURCE_CACHE, \"wb\") as dump:\n",
    "            _ = pck.dump(FILES_EXIST_BY_SOURCE_FOLDER, dump)\n",
    "\n",
    "\n",
    "FILES_EXIST_PER_SAMPLE = col.defaultdict(list)\n",
    "for dsource, files_in_source in FILES_EXIST_BY_SOURCE_FOLDER.items():\n",
    "    for fp in files_in_source:\n",
    "        smpf = DataFile(fp, dsource)\n",
    "        FILES_EXIST_PER_SAMPLE[smpf.sample].append(smpf)\n",
    "        assert smpf.sample in SAMPLES or smpf.sample in [\"GM19320\"], smpf.sample\n"
   ]
  }
 ],
 "metadata": {
  "kernelspec": {
   "display_name": "Python 3 (ipykernel)",
   "language": "python",
   "name": "python3"
  },
  "language_info": {
   "codemirror_mode": {
    "name": "ipython",
    "version": 3
   },
   "file_extension": ".py",
   "mimetype": "text/x-python",
   "name": "python",
   "nbconvert_exporter": "python",
   "pygments_lexer": "ipython3",
   "version": "3.9.15"
  }
 },
 "nbformat": 4,
 "nbformat_minor": 5
}
