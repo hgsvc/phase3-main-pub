{
 "cells": [
  {
   "cell_type": "code",
   "execution_count": null,
   "id": "10c8b46c",
   "metadata": {},
   "outputs": [],
   "source": [
    "import pathlib as pl\n",
    "import collections as col\n",
    "\n",
    "LOCAL_MOUNT = pl.Path(\"/mounts/hilbert/project\")\n",
    "\n",
    "REMOTE_PREFIX = pl.Path(\"/gpfs/project\")\n",
    "\n",
    "PathPrefix = col.namedtuple(\"PathPrefix\", [\"local\", \"remote\"])\n",
    "\n",
    "PATH_PREFIX = PathPrefix(LOCAL_MOUNT, REMOTE_PREFIX)\n",
    "\n",
    "DATA_ROOT = pl.Path(\n",
    "    \"projects\", \"medbioinf\", \"data\", \"00_RESTRUCTURE\"\n",
    ")\n",
    "\n",
    "PROJECT_DATA_FOLDER = pl.Path(\"project-centric\")\n",
    "\n",
    "SUB_DATA_FOLDERS = [\n",
    "    (\"hgsvc\", \"ont\", \"hgsvc/nanopore\"),\n",
    "    (\"hgsvc\", \"hifi\", \"hgsvc/pacbio_hifi\"),\n",
    "    (\"T2TY\", \"hifi\", \"PRJNA813010\"),\n",
    "    (\"HPRCplus\", \"hifi\", \"PRJNA731524\"),\n",
    "    (\"PacBio\", \"hifi\", \"PRJNA626366\"),\n",
    "    (\"PacBio\", \"hifi\", \"PRJNA626365\"),\n",
    "    (\"PacBio\", \"hifi\", \"PRJNA586863\"),\n",
    "    (\"MGIwustl\", \"illwgs\", \"PRJNA477862/short_wgs\"),\n",
    "    (\"HPRCplus\", \"hifi\", \"PRJNA339722\"),\n",
    "    (\"NYGC698\", \"illwgs\", \"PRJEB36890/short_wgs\"),\n",
    "    (\"NYGC2504\", \"illwgs\", \"PRJEB31736/short_wgs\"),\n",
    "    (\"epi2me\", \"ont\", \"epi2me/nanopore\"),\n",
    "    (\"hprc\", \"ont\", \"hprc/nanopore\")\n",
    "]\n",
    "\n",
    "SAMPLE_FOLDER = pl.Path(\"sample-centric\")\n",
    "\n",
    "LOCAL_DATA_ROOT = LOCAL_MOUNT.joinpath(DATA_ROOT)\n",
    "LOCAL_PROJECT_DATA_ROOT = LOCAL_MOUNT.joinpath(DATA_ROOT, PROJECT_DATA_FOLDER)\n",
    "LOCAL_SAMPLE_ROOT = LOCAL_MOUNT.joinpath(DATA_ROOT, SAMPLE_FOLDER)\n",
    "\n",
    "REMOTE_DATA_ROOT = REMOTE_PREFIX.joinpath(DATA_ROOT)\n",
    "REMOTE_PROJECT_DATA_ROOT = REMOTE_PREFIX.joinpath(DATA_ROOT, PROJECT_DATA_FOLDER)\n",
    "REMOTE_SAMPLE_ROOT = REMOTE_PREFIX.joinpath(DATA_ROOT, SAMPLE_FOLDER)\n",
    "\n"
   ]
  }
 ],
 "metadata": {
  "kernelspec": {
   "display_name": "Python 3 (ipykernel)",
   "language": "python",
   "name": "python3"
  },
  "language_info": {
   "codemirror_mode": {
    "name": "ipython",
    "version": 3
   },
   "file_extension": ".py",
   "mimetype": "text/x-python",
   "name": "python",
   "nbconvert_exporter": "python",
   "pygments_lexer": "ipython3",
   "version": "3.9.15"
  }
 },
 "nbformat": 4,
 "nbformat_minor": 5
}
