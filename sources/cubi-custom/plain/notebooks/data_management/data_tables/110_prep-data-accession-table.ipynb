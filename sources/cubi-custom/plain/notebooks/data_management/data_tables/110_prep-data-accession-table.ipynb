{
 "cells": [
  {
   "cell_type": "code",
   "execution_count": 1,
   "id": "4b8d6fc7",
   "metadata": {},
   "outputs": [],
   "source": [
    "%run \"../../00_project_config.ipynb\"\n",
    "%run \"../00_path_config.ipynb\"\n",
    "\n",
    "import pathlib as pl\n",
    "import pickle as pck\n",
    "import pandas as pd\n",
    "\n",
    "# some HGSVC data were already accessioned as part of the chrY publication;\n",
    "# use the respective suppl. table (sheet1) as basis \n",
    "\n",
    "raw_table = DATA_PRODUCTION_TABLE.parent.joinpath(\n",
    "    \"chrY_sheet1_data_sources.tsv\"\n",
    ")\n",
    "\n",
    "prep_table = PROJECT_BASE.joinpath(\n",
    "    \"annotations\", \"data_freezes\",\n",
    "    \"out-110.chrY_sheet1_data_sources.prep.tsv\"\n",
    ")\n",
    "\n",
    "df = pd.read_csv(raw_table, sep=\"\\t\", header=0, comment=\"#\")\n",
    "df.drop(\n",
    "    [\n",
    "        \"Coriell Family ID\", \"Child of trio\", \"Father ID/comment on Illumina data\",\n",
    "        \"Y haplogroup (ISOGG v15.73)\", \"Y terminal marker\", \"Cohort\",\n",
    "        \"HGSVC_year\", \"High-coverage sample (HiFi coverage of at least 50⨉)\",\n",
    "        \"Bionano molecule N50 (kbp)\", \"Bionano effective coverage of assembly (X)\",\n",
    "        \"Bionano\", \"Project Accesion ID\",\n",
    "        \"Hi-C\", \"Project Accesion ID.3\",\n",
    "        \"RNA-Seq\", \"Project Accesion ID.5\",\n",
    "        \"Iso-Seq\", \"Project Accesion ID.6\"\n",
    "    ], axis=1, inplace=True\n",
    ")\n",
    "\n",
    "df.rename(\n",
    "    {\n",
    "        \"Sample ID\": \"sample\",\n",
    "        \"Population\": \"population\",\n",
    "        \"Super population\": \"super_population\",\n",
    "        \"PacBio HiFi\": \"remote_hifi\",\n",
    "        \"Project Accesion ID.1\": \"accession_hifi\",\n",
    "        \"ONT-UL\": \"remote_ont\",\n",
    "        \"Project Accesion ID.2\": \"accession_ont\",\n",
    "        \"Strand-Seq\": \"remote_strandseq\",\n",
    "        \"Project Accesion ID.4\": \"accession_strandseq\"\n",
    "    }, axis=1, inplace=True\n",
    ")\n",
    "\n",
    "df.to_csv(prep_table, sep=\"\\t\", header=True, index=False)\n"
   ]
  }
 ],
 "metadata": {
  "kernelspec": {
   "display_name": "Python 3 (ipykernel)",
   "language": "python",
   "name": "python3"
  },
  "language_info": {
   "codemirror_mode": {
    "name": "ipython",
    "version": 3
   },
   "file_extension": ".py",
   "mimetype": "text/x-python",
   "name": "python",
   "nbconvert_exporter": "python",
   "pygments_lexer": "ipython3",
   "version": "3.9.15"
  }
 },
 "nbformat": 4,
 "nbformat_minor": 5
}
