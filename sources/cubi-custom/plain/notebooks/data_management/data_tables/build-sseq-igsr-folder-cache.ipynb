{
 "cells": [
  {
   "cell_type": "code",
   "execution_count": 45,
   "id": "afd53580",
   "metadata": {},
   "outputs": [],
   "source": [
    "import requests as req\n",
    "import pathlib as pl\n",
    "import pickle as pck\n",
    "\n",
    "import ftplib as ftp\n",
    "\n",
    "test_dir_ok = \"https://ftp.1000genomes.ebi.ac.uk/vol1/ftp/data_collections/HGSVC2/working/20191005_YRI_PacBio_NA19240_HiFi\"\n",
    "test_dir_fail = \"https://ftp.1000genomes.ebi.ac.uk/vol1/ftp/data_collections/HGSVC3/working/20191005_YRI_PacBio_NA19240_HiFi\"\n",
    "\n",
    "\n",
    "\n",
    "cache = dict()\n",
    "\n",
    "sseq_dirs = [\n",
    "    \"vol1/ftp/data_collections/HGSVC2/working/20200120_Strandseq/fastq\",\n",
    "    \"vol1/ftp/data_collections/HGSVC2/working/20210607_Strandseq/fastq\",\n",
    "    \"vol1/ftp/data_collections/HGSVC2/working/20210824_Strandseq/fastq\",\n",
    "    \"vol1/ftp/data_collections/HGSVC2/working/20220119_Strandseq/fastq\",\n",
    "    \"vol1/ftp/data_collections/HGSVC2/working/20220207_Strandseq/fastq\",\n",
    "    \"vol1/ftp/data_collections/HGSVC2/working/20220302_Strandseq/fastq\",\n",
    "    \"vol1/ftp/data_collections/HGSVC3/working/20220711_Strandseq/fastq\",\n",
    "    \"vol1/ftp/data_collections/HGSVC3/working/20220803_Strandseq/fastq\"\n",
    "]\n",
    "\n",
    "for wd in sseq_dirs:\n",
    "    srv = ftp.FTP(\"ftp.1000genomes.ebi.ac.uk\")\n",
    "    srv.login()\n",
    "    srv.cwd(wd)\n",
    "    folder_list = srv.nlst()\n",
    "    cache[wd] = folder_list\n",
    "    srv.quit()\n",
    "\n",
    "cache_file = pl.Path(\n",
    "    \"/home/ebertp/work/code/cubi/project-run-hgsvc-hybrid-assemblies/notebooks/data_management/.cache\",\n",
    "    \"sseq_igsr_folders.pck\"\n",
    ")\n",
    "\n",
    "with open(cache_file, \"wb\") as dump:\n",
    "    pck.dump(cache, dump)"
   ]
  }
 ],
 "metadata": {
  "kernelspec": {
   "display_name": "Python 3 (ipykernel)",
   "language": "python",
   "name": "python3"
  },
  "language_info": {
   "codemirror_mode": {
    "name": "ipython",
    "version": 3
   },
   "file_extension": ".py",
   "mimetype": "text/x-python",
   "name": "python",
   "nbconvert_exporter": "python",
   "pygments_lexer": "ipython3",
   "version": "3.9.15"
  }
 },
 "nbformat": 4,
 "nbformat_minor": 5
}
