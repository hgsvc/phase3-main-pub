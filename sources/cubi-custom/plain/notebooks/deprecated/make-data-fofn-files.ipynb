{
 "cells": [
  {
   "cell_type": "code",
   "execution_count": 1,
   "id": "3d650d29",
   "metadata": {},
   "outputs": [
    {
     "name": "stdout",
     "output_type": "stream",
     "text": [
      "/mounts/hilbert/project/projects/medbioinf/data/00_RESTRUCTURE/sample-centric/NA19320/NA19320_hifi_fastq.hgsvc-2021.fofn\n",
      "/mounts/hilbert/project/projects/medbioinf/data/00_RESTRUCTURE/sample-centric/NA20355/NA20355_hifi_fastq.hgsvc-2021.fofn\n",
      "/mounts/hilbert/project/projects/medbioinf/data/00_RESTRUCTURE/sample-centric/NA21487/NA21487_hifi_fastq.hgsvc-2021.fofn\n",
      "/mounts/hilbert/project/projects/medbioinf/data/00_RESTRUCTURE/sample-centric/HG01352/HG01352_hifi_fastq.hgsvc-2021.fofn\n",
      "/mounts/hilbert/project/projects/medbioinf/data/00_RESTRUCTURE/sample-centric/HG02059/HG02059_hifi_fastq.hgsvc-2021.fofn\n",
      "/mounts/hilbert/project/projects/medbioinf/data/00_RESTRUCTURE/sample-centric/HG02554/HG02554_hifi_fastq.hgsvc-2021.fofn\n",
      "/mounts/hilbert/project/projects/medbioinf/data/00_RESTRUCTURE/sample-centric/HG02769/HG02769_hifi_fastq.hgsvc-2021.fofn\n",
      "/mounts/hilbert/project/projects/medbioinf/data/00_RESTRUCTURE/sample-centric/HG02953/HG02953_hifi_fastq.hgsvc-2021.fofn\n",
      "/mounts/hilbert/project/projects/medbioinf/data/00_RESTRUCTURE/sample-centric/HG03452/HG03452_hifi_fastq.hgsvc-2021.fofn\n",
      "/mounts/hilbert/project/projects/medbioinf/data/00_RESTRUCTURE/sample-centric/HG04036/HG04036_hifi_fastq.hgsvc-2021.fofn\n"
     ]
    }
   ],
   "source": [
    "import pathlib as pl\n",
    "\n",
    "\n",
    "repo_path = pl.Path(\".\").resolve().parent\n",
    "\n",
    "local_run = True\n",
    "\n",
    "local_imbb_mount = pl.Path(\"/mounts/hilbert/project/projects/medbioinf/data/00_RESTRUCTURE/\")\n",
    "remote_imbb_path = pl.Path(\"/gpfs/project/projects/medbioinf/data/00_RESTRUCTURE/\")\n",
    "\n",
    "data_root_path = local_imbb_mount if local_run else remote_imbb_path\n",
    "assert data_root_path.is_dir()\n",
    "\n",
    "sample_fofn_out = data_root_path.joinpath(\"sample-centric\")\n",
    "\n",
    "year_map = {\n",
    "    \"20220418_UW_HiFi\": \"2022\",\n",
    "    \"20211207_UMIGS_HiFi\": \"2021\",\n",
    "    \"20210509_UW_HiFi\": \"2021\"\n",
    "}\n",
    "\n",
    "for data_folder in [\"project-centric/hgsvc/nanopore\", \"project-centric/hgsvc/pacbio_hifi\"]:\n",
    "    for sample_folders_file in data_root_path.joinpath(data_folder).glob(\"**/sample-folder.lst\"):\n",
    "        if \"20220831_JAX_HiFi\" in str(sample_folders_file):\n",
    "            continue\n",
    "        with open(sample_folders_file, \"r\") as sample_folders:\n",
    "            for line in sample_folders:\n",
    "                if not line.strip():\n",
    "                    continue\n",
    "                if \"2019\" in line or \"2020\" in line:\n",
    "                    continue\n",
    "                if \"2021_PacBio_HIFI_JAX\" in line:\n",
    "                    continue\n",
    "                sample_path = data_root_path.joinpath(line.strip())\n",
    "                assert sample_path.is_dir()\n",
    "                if \"nanopore\" in str(sample_path):\n",
    "                    continue\n",
    "                    select_exp = \"**/*pass.fastq.gz\"\n",
    "                    fofn_data = \"ont\"\n",
    "                else:\n",
    "                    select_exp = \"**/*.fastq.gz\"\n",
    "                    fofn_data = \"hifi\"\n",
    "                sample = sample_path.name\n",
    "                if sample.startswith(\"GM\"):\n",
    "                    sample = sample.replace(\"GM\", \"NA\")\n",
    "                sample_files = sorted(sample_path.glob(select_exp))\n",
    "                year = None\n",
    "                for key, value in year_map.items():\n",
    "                    if key in str(sample_path):\n",
    "                        year = value\n",
    "                        break\n",
    "                assert year is not None\n",
    "                sample_files = [fp.relative_to(data_root_path) for fp in sample_files]\n",
    "                assert data_root_path.joinpath(sample_files[0]).is_file()\n",
    "                fofn_name = f\"{sample}_{fofn_data}_fastq.hgsvc-{year}.fofn\"\n",
    "                fofn_path = sample_fofn_out.joinpath(sample, fofn_name)\n",
    "                if fofn_path.is_file():\n",
    "                    continue\n",
    "                fofn_path.parent.mkdir(exist_ok=True)\n",
    "                print(fofn_path)\n",
    "                #assert not fofn_path.is_file()\n",
    "                with open(fofn_path, \"w\") as dump:\n",
    "                    for sf in sample_files:\n",
    "                        _ = dump.write(f\"{sf}\\n\")\n",
    "            "
   ]
  }
 ],
 "metadata": {
  "kernelspec": {
   "display_name": "Python 3 (ipykernel)",
   "language": "python",
   "name": "python3"
  },
  "language_info": {
   "codemirror_mode": {
    "name": "ipython",
    "version": 3
   },
   "file_extension": ".py",
   "mimetype": "text/x-python",
   "name": "python",
   "nbconvert_exporter": "python",
   "pygments_lexer": "ipython3",
   "version": "3.9.15"
  }
 },
 "nbformat": 4,
 "nbformat_minor": 5
}
