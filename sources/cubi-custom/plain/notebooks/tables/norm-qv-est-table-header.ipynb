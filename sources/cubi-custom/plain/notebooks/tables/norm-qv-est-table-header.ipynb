{
 "cells": [
  {
   "cell_type": "code",
   "execution_count": 10,
   "id": "26adb6f1-694c-41b3-8181-a8405c71ad5a",
   "metadata": {},
   "outputs": [],
   "source": [
    "import pathlib as pl\n",
    "import pandas as pd\n",
    "import re\n",
    "\n",
    "pd.set_option('future.no_silent_downcasting', True)\n",
    "\n",
    "%cd -q \"/home/ebertp/work/code/cubi/project-run-hgsvc-hybrid-assemblies/notebooks\"\n",
    "_PROJECT_CONFIG_NB = str(pl.Path(\"00_project_config.ipynb\").resolve(strict=True))\n",
    "\n",
    "%run $_PROJECT_CONFIG_NB\n",
    "\n",
    "_MYNAME=\"norm-qv-est-table-header\"\n",
    "_NBSTAMP=get_nb_stamp(_MYNAME)\n",
    "\n",
    "ASSEMBLER = \"verkko\"\n",
    "\n",
    "qv_est_table = PROJECT_BASE.joinpath(\"annotations\", \"autogen\", f\"{ASSEMBLER}_qv-est.tsv\")\n",
    "table = pd.read_csv(qv_est_table, sep=\"\\t\", header=0)\n",
    "\n",
    "table.drop([\"assembly\", \"assembler\"], axis=1, inplace=True)\n",
    "\n",
    "table = table[\n",
    "     [\n",
    "         'sample', 'asm_unit', 'sequence', 'seq_length', 'variant_adj_length',\n",
    "         'variant_num_errors', 'variant_qv_est',\n",
    "         'merqury_error_kmer', 'merqury_total_kmer',\n",
    "         'merqury_qv_est', 'merqury_error_rate'\n",
    "    ]\n",
    "]\n",
    "\n",
    "table.sort_values([\"sample\", \"asm_unit\", \"sequence\"], inplace=True)\n",
    "\n",
    "renamer = {\n",
    "    \"sample\": \"sample\",\n",
    "    \"sequence\": \"sequence\",\n",
    "    \"merqury_error_kmer\": \"Merqury error 21-mers (n)\",\n",
    "    \"merqury_total_kmer\": \"Merqury total 21-mers (n)\",\n",
    "    \"merqury_qv_est\": \"Merqury QV estimate\",\n",
    "    \"merqury_error_rate\": \"Merqury error rate\",\n",
    "    \"asm_unit\": \"assembly unit\",\n",
    "    \"seq_length\": \"sequence lengh (bp)\",\n",
    "    \"variant_adj_length\": \"adj. seq. length (bp)\",\n",
    "    \"variant_num_errors\": \"DeepVariant errors (bp)\",\n",
    "    \"variant_qv_est\": \"variant QV estimate\"\n",
    "}\n",
    "\n",
    "table.rename(renamer, axis=1, inplace=True)\n",
    "\n",
    "table_sx_qv_est = TABLE_OUT_SUPPL.joinpath(\n",
    "    f\"table_SXPE_{ASSEMBLER}_qv_est.tsv\"\n",
    ")\n",
    "\n",
    "table.to_csv(table_sx_qv_est, sep=\"\\t\", header=True, index=False)"
   ]
  },
  {
   "cell_type": "code",
   "execution_count": null,
   "id": "d70f1b4c-c487-4d5e-ae35-c29d2e2741be",
   "metadata": {},
   "outputs": [],
   "source": []
  }
 ],
 "metadata": {
  "kernelspec": {
   "display_name": "Python 3 (ipykernel)",
   "language": "python",
   "name": "python3"
  },
  "language_info": {
   "codemirror_mode": {
    "name": "ipython",
    "version": 3
   },
   "file_extension": ".py",
   "mimetype": "text/x-python",
   "name": "python",
   "nbconvert_exporter": "python",
   "pygments_lexer": "ipython3",
   "version": "3.10.8"
  }
 },
 "nbformat": 4,
 "nbformat_minor": 5
}
