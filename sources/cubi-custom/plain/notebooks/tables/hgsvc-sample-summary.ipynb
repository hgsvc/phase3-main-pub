{
 "cells": [
  {
   "cell_type": "code",
   "execution_count": 13,
   "id": "3641c4e1-affd-418f-ad95-dff8060cf824",
   "metadata": {},
   "outputs": [],
   "source": [
    "import pathlib as pl\n",
    "import pandas as pd\n",
    "import re\n",
    "\n",
    "pd.set_option('future.no_silent_downcasting', True)\n",
    "\n",
    "%cd -q \"/home/ebertp/work/code/cubi/project-run-hgsvc-hybrid-assemblies/notebooks\"\n",
    "_PROJECT_CONFIG_NB = str(pl.Path(\"00_project_config.ipynb\").resolve(strict=True))\n",
    "\n",
    "%run $_PROJECT_CONFIG_NB\n",
    "\n",
    "_MYNAME=\"hgsvc-sample-summary\"\n",
    "_NBSTAMP=get_nb_stamp(_MYNAME)\n",
    "\n",
    "keep = []\n",
    "rename = dict()\n",
    "for col in HGSVC_SAMPLES.columns:\n",
    "    if col in [\"sample\", \"population\", \"supergroup\", \"sex\", \"rgb_rel_pop\", \"rgb_rel_super\", \"family\", \"member\"]:\n",
    "        keep.append(col)\n",
    "        if col == \"supergroup\":\n",
    "            rename[col] = \"continental group\"\n",
    "        elif col == \"rgb_rel_pop\":\n",
    "            rename[col] = \"color RGB pop.\"\n",
    "        elif col == \"rgb_rel_super\":\n",
    "            rename[col] = \"color RGB cont. group\"\n",
    "        else:\n",
    "            rename[col] = col\n",
    "\n",
    "subset = HGSVC_SAMPLES[keep].copy()\n",
    "\n",
    "subset.rename(rename, axis=1, inplace=True)\n",
    "\n",
    "subset.sort_values(\"sample\", inplace=True)\n",
    "\n",
    "singletons = subset[\"sample\"] == subset[\"family\"]\n",
    "subset.loc[singletons, \"family\"] = \"-\"\n",
    "\n",
    "table_sx_samples = TABLE_OUT_SUPPL.joinpath(\n",
    "    \"table_SXPE_sample-summary.tsv\"\n",
    ")\n",
    "\n",
    "subset.to_csv(table_sx_samples, sep=\"\\t\", header=True, index=False)"
   ]
  }
 ],
 "metadata": {
  "kernelspec": {
   "display_name": "Python 3 (ipykernel)",
   "language": "python",
   "name": "python3"
  },
  "language_info": {
   "codemirror_mode": {
    "name": "ipython",
    "version": 3
   },
   "file_extension": ".py",
   "mimetype": "text/x-python",
   "name": "python",
   "nbconvert_exporter": "python",
   "pygments_lexer": "ipython3",
   "version": "3.10.8"
  }
 },
 "nbformat": 4,
 "nbformat_minor": 5
}
