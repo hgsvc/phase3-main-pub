{
 "cells": [
  {
   "cell_type": "code",
   "execution_count": 4,
   "id": "37c6b04f",
   "metadata": {},
   "outputs": [],
   "source": [
    "%run \"../00_project_config.ipynb\"\n",
    "\n",
    "import pandas as pd\n",
    "import pathlib as pl\n",
    "import os\n",
    "import io\n",
    "import json\n",
    "\n",
    "json_path = pl.Path(\n",
    "    \"/mounts/hilbert/project\",\n",
    "    \"projects/medbioinf/projects/assemblies/hybrids/verkko/wd/proc/assemblies/verkko\"\n",
    ")\n",
    "\n",
    "sample_sheet_out = PROJECT_BASE.joinpath(\n",
    "    \"samples\", \"vrk_qcaln_samples.tsv\"\n",
    ")\n",
    "\n",
    "out_records = []\n",
    "for json_file in json_path.glob(\"*.ps-sseq.output.json\"):\n",
    "    with open(json_file, \"r\") as dump:\n",
    "        outfiles = json.load(dump)\n",
    "        sample = outfiles[\"sample\"]\n",
    "        hap1 = outfiles[\"hap1_fasta\"][\"abs_path\"]\n",
    "        hap2 = outfiles[\"hap2_fasta\"][\"abs_path\"]\n",
    "        unassign = outfiles[\"unassigned_fasta\"][\"abs_path\"]\n",
    "        disconn = outfiles[\"disconnected_fasta\"][\"abs_path\"]\n",
    "        rdna = outfiles[\"rdna_fasta\"][\"abs_path\"]\n",
    "        ebv = outfiles[\"ebv_fasta\"][\"abs_path\"]\n",
    "        mito = outfiles[\"mito_fasta\"][\"abs_path\"]\n",
    "        rdna_repr = outfiles[\"rdna_repr\"][\"abs_path\"]\n",
    "        ebv_repr = outfiles[\"ebv_repr\"][\"abs_path\"]\n",
    "        mito_repr = outfiles[\"mito_repr\"][\"abs_path\"]\n",
    "        try:\n",
    "            sex = HGSVC_SAMPLES.loc[HGSVC_SAMPLES[\"sample\"] == sample, \"sex\"].values[0]\n",
    "        except IndexError:\n",
    "            raise ValueError(sample)\n",
    "        out_records.append(\n",
    "            (\n",
    "                sample, sex, hap1, hap2, unassign, disconn,\n",
    "                rdna, rdna_repr, mito, mito_repr, ebv, ebv_repr\n",
    "            )\n",
    "        )\n",
    "        \n",
    "df = pd.DataFrame.from_records(\n",
    "    out_records, columns=[\n",
    "        \"sample\", \"sex\", \"asm_hap1\", \"asm_hap2\", \"asm_unassigned\", \"asm_disconnected\",\n",
    "        \"asm_rdna\", \"asm_rdnaEX\", \"asm_mito\", \"asm_mitoEX\", \"asm_ebv\", \"asm_ebvEX\"\n",
    "    ]\n",
    ")\n",
    "df.sort_values(\"sample\", inplace=True)\n",
    "\n",
    "with open(sample_sheet_out, \"w\") as dump:\n",
    "    _ = dump.write(f\"# {TODAY}\\n\")\n",
    "    df.to_csv(dump, sep=\"\\t\", header=True, index=False)"
   ]
  }
 ],
 "metadata": {
  "kernelspec": {
   "display_name": "Python 3 (ipykernel)",
   "language": "python",
   "name": "python3"
  },
  "language_info": {
   "codemirror_mode": {
    "name": "ipython",
    "version": 3
   },
   "file_extension": ".py",
   "mimetype": "text/x-python",
   "name": "python",
   "nbconvert_exporter": "python",
   "pygments_lexer": "ipython3",
   "version": "3.9.15"
  }
 },
 "nbformat": 4,
 "nbformat_minor": 5
}
